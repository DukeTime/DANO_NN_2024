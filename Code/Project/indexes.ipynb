{
 "cells": [
  {
   "cell_type": "code",
   "execution_count": 1,
   "metadata": {},
   "outputs": [
    {
     "name": "stderr",
     "output_type": "stream",
     "text": [
      "<>:8: SyntaxWarning: invalid escape sequence '\\F'\n",
      "<>:8: SyntaxWarning: invalid escape sequence '\\F'\n",
      "C:\\Users\\dukeo\\AppData\\Local\\Temp\\ipykernel_19884\\28591440.py:8: SyntaxWarning: invalid escape sequence '\\F'\n",
      "  df = pd.read_excel(\"D:\\ForPy\\Git\\DANO_NN_2024\\Data\\hakaton_nn_1month.xlsx\")\n"
     ]
    }
   ],
   "source": [
    "import pandas as pd\n",
    "import numpy as np\n",
    "import matplotlib.pyplot as plt\n",
    "import seaborn as sns\n",
    "from scipy import stats\n",
    "import statsmodels.stats.multicomp as multi\n",
    "\n",
    "df = pd.read_excel(\"D:\\ForPy\\Git\\DANO_NN_2024\\Data\\hakaton_nn_1month.xlsx\")"
   ]
  },
  {
   "cell_type": "code",
   "execution_count": null,
   "metadata": {},
   "outputs": [],
   "source": [
    "df[\"offencedata\"] = pd.to_datetime(df[\"offencedate\"])\n",
    "df[\"gender_cd\"] = df[\"gender_cd\"].replace(\"M\",1)\n",
    "df[\"gender_cd\"] = df[\"gender_cd\"].replace(\";M\",1)\n",
    "df[\"gender_cd\"] = df[\"gender_cd\"].replace(\"F\",0)\n",
    "df[\"gender_cd\"] = df[\"gender_cd\"].fillna(0)\n",
    "df[\"children_cnt\"] = df[\"children_cnt\"].fillna(0)\n",
    "df[\"gender_cd\"] = df[\"gender_cd\"].astype(\"int64\")"
   ]
  },
  {
   "cell_type": "code",
   "execution_count": null,
   "metadata": {},
   "outputs": [],
   "source": [
    "sns.barplot(x=df[\"a6a\"],y=df[\"j30_environment_pos\"],palette='hls')\n",
    "#plt.plot(X,model.predict(X),color=\"orange\")\n",
    "X = df[\"a6a\"]\n",
    "Y = df[\"j30_environment_pos\"]\n",
    "X = sm.add_constant(X,prepend=False)\n",
    "model = OLS(Y,X)\n",
    "res = model.fit()\n",
    "plt.plot(X,res.predict(X),color=\"purple\")"
   ]
  }
 ],
 "metadata": {
  "kernelspec": {
   "display_name": "Python 3",
   "language": "python",
   "name": "python3"
  },
  "language_info": {
   "codemirror_mode": {
    "name": "ipython",
    "version": 3
   },
   "file_extension": ".py",
   "mimetype": "text/x-python",
   "name": "python",
   "nbconvert_exporter": "python",
   "pygments_lexer": "ipython3",
   "version": "3.12.2"
  }
 },
 "nbformat": 4,
 "nbformat_minor": 2
}
